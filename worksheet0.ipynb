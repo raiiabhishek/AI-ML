{
  "nbformat": 4,
  "nbformat_minor": 0,
  "metadata": {
    "colab": {
      "provenance": []
    },
    "kernelspec": {
      "name": "python3",
      "display_name": "Python 3"
    },
    "language_info": {
      "name": "python"
    }
  },
  "cells": [
    {
      "cell_type": "markdown",
      "source": [
        "Qn.1"
      ],
      "metadata": {
        "id": "iUDlxFqhYfpi"
      }
    },
    {
      "cell_type": "code",
      "source": [
        "# takes type and then the actual value to be printed finally then converts accordingly and returns it\n",
        "def convertLength(x,type):\n",
        "  if (type==\"meters\"):\n",
        "    result=x*3.28\n",
        "  elif(type==\"feet\"):\n",
        "    result=x/3.28\n",
        "  return result\n",
        "\n",
        "# takes weight and the type and converts accordingly and returns it\n",
        "def convertWeight(x,type):\n",
        "  if (type==\"kilograms\"):\n",
        "    result=x*2.20\n",
        "  elif(type==\"pounds\"):\n",
        "    result=x/2.20\n",
        "  return result\n",
        "\n",
        "# takes volume and the type and converts accordingly and returns it\n",
        "def convertVolume(x,type):\n",
        "  if (type==\"liters\"):\n",
        "    result=x*3.78\n",
        "  elif(type==\"gallons\"):\n",
        "    result=x/3.78\n",
        "  return result"
      ],
      "metadata": {
        "id": "n_eUG4OAYGmI"
      },
      "execution_count": 1,
      "outputs": []
    },
    {
      "cell_type": "code",
      "source": [
        "conversion=input(\"Enter the type of conversion: length, weight, volume\")\n",
        "a=input(\"Enter the value to be converted: \")\n",
        "try:\n",
        "    a=int(a)\n",
        "except:\n",
        "    print(\"Invalid input\")\n",
        "type=input(\"Enter the type of value your entered: meters,feet,kilograms,pounds,liters,gallons\")\n",
        "match conversion:\n",
        "  case \"length\":\n",
        "    print(convertLength(a,type))\n",
        "  case \"weight\":\n",
        "    print(convertWeight(a,type))\n",
        "  case \"volume\":\n",
        "    print(convertVolume(a,type))"
      ],
      "metadata": {
        "colab": {
          "base_uri": "https://localhost:8080/"
        },
        "id": "_eZRx9B5YK8c",
        "outputId": "3ae76e96-215c-46e6-b013-2d77299d0874"
      },
      "execution_count": 7,
      "outputs": [
        {
          "output_type": "stream",
          "name": "stdout",
          "text": [
            "Enter the type of conversion: length, weight, volumelength\n",
            "Enter the value to be converted: 6\n",
            "Enter the type of value your entered: meters,feet,kilograms,pounds,liters,gallonsfeet\n",
            "1.829268292682927\n"
          ]
        }
      ]
    },
    {
      "cell_type": "code",
      "source": [],
      "metadata": {
        "id": "IQPIfC9fYRlX"
      },
      "execution_count": null,
      "outputs": []
    },
    {
      "cell_type": "markdown",
      "source": [
        "Qn.2"
      ],
      "metadata": {
        "id": "hiEhr6BYYeFA"
      }
    },
    {
      "cell_type": "code",
      "source": [
        "\n",
        "def sum(x):\n",
        "  # takes a parameter list and provides the sum of the elements of list\n",
        "  result=0\n",
        "  for x in x:\n",
        "    result+=x\n",
        "  return result\n",
        "\n",
        "def average(x):\n",
        "  # takes a parameter list and returns the average of the elements\n",
        "  result=0\n",
        "  for x in x:\n",
        "    sum+=x\n",
        "  result=sum/len(x)\n",
        "  return result\n",
        "\n",
        "def maximum(x):\n",
        "  # takes a parameter list and returns the maximum of the elements\n",
        "  return max(x)\n",
        "\n",
        "def minimum(x):\n",
        "  # takes a parameter list and returns the maximum of the elements\n",
        "  return min(x)"
      ],
      "metadata": {
        "id": "wk7km2qiYlYM"
      },
      "execution_count": 3,
      "outputs": []
    },
    {
      "cell_type": "code",
      "source": [
        "a=input(\"enter list separated by spaces\")\n",
        "try:\n",
        "  list=[int(x) for x in a if x.isnumeric()]\n",
        "except:\n",
        "  print(\"Enter valid numbers\")\n",
        "operation=input(\"Enter operation: sum, average,maximum,minimum\")\n",
        "match operation:\n",
        "  case \"sum\":\n",
        "    print(sum(list))\n",
        "  case \"average\":\n",
        "    print(average(list))\n",
        "  case \"maximum\":\n",
        "    print(maximum(list))\n",
        "  case \"minimum\":\n",
        "    print(minimum(list))"
      ],
      "metadata": {
        "colab": {
          "base_uri": "https://localhost:8080/"
        },
        "id": "G2fzv5LqYno4",
        "outputId": "79deae07-0698-4b3d-9d01-563c2096e7ef"
      },
      "execution_count": 8,
      "outputs": [
        {
          "output_type": "stream",
          "name": "stdout",
          "text": [
            "enter list separated by spaces696\n",
            "Enter operation: sum, average,maximum,minimumsum\n",
            "21\n"
          ]
        }
      ]
    },
    {
      "cell_type": "markdown",
      "source": [
        "Qn.3"
      ],
      "metadata": {
        "id": "vTbvJFUAYyGy"
      }
    },
    {
      "cell_type": "code",
      "source": [
        "def extract_every_other(lst):\n",
        "  new_list=[x for index,x in enumerate(lst) if index%2==0]\n",
        "  return new_list\n",
        "\n",
        "print(extract_every_other([1,2,3,4,5,6]))\n",
        "\n",
        ""
      ],
      "metadata": {
        "colab": {
          "base_uri": "https://localhost:8080/"
        },
        "id": "VEZTnWhrYsjx",
        "outputId": "07aba3c2-d833-451a-f794-633b7c4536f6"
      },
      "execution_count": 5,
      "outputs": [
        {
          "output_type": "stream",
          "name": "stdout",
          "text": [
            "[1, 3, 5]\n"
          ]
        }
      ]
    },
    {
      "cell_type": "markdown",
      "source": [
        "Qn.4"
      ],
      "metadata": {
        "id": "vHDkSEcxZffx"
      }
    },
    {
      "cell_type": "code",
      "source": [
        "def get_sublist(lst,start,end):\n",
        "  new_list=lst[start:end+1]\n",
        "  return new_list\n",
        "\n",
        "print(get_sublist([1,2,3,4,5,6],2,4))"
      ],
      "metadata": {
        "colab": {
          "base_uri": "https://localhost:8080/"
        },
        "id": "OIv2BF6TY1A-",
        "outputId": "54d89d30-517d-4e5b-9943-c7a652883da8"
      },
      "execution_count": 9,
      "outputs": [
        {
          "output_type": "stream",
          "name": "stdout",
          "text": [
            "[3, 4, 5]\n"
          ]
        }
      ]
    },
    {
      "cell_type": "markdown",
      "source": [
        "Qn.5"
      ],
      "metadata": {
        "id": "ZCIOVeL4ZhUM"
      }
    },
    {
      "cell_type": "code",
      "source": [
        "def reverse_list(lst):\n",
        "  new_list=lst[::-1]\n",
        "  return new_list\n",
        "\n",
        "print(reverse_list([1,2,3,4,5,6]))"
      ],
      "metadata": {
        "colab": {
          "base_uri": "https://localhost:8080/"
        },
        "id": "PS5Dqf6vZVIS",
        "outputId": "22f93690-317e-4b95-bd0b-a0743fef7cf2"
      },
      "execution_count": 10,
      "outputs": [
        {
          "output_type": "stream",
          "name": "stdout",
          "text": [
            "[6, 5, 4, 3, 2, 1]\n"
          ]
        }
      ]
    },
    {
      "cell_type": "markdown",
      "source": [
        "Qn.6"
      ],
      "metadata": {
        "id": "x5l1FD86ZZwl"
      }
    },
    {
      "cell_type": "code",
      "source": [
        "def remove_first_last(lst):\n",
        "  new_list=lst[1:len(lst)-1]\n",
        "  return new_list\n",
        "\n",
        "print(remove_first_last([1,2,3,4,5]))"
      ],
      "metadata": {
        "colab": {
          "base_uri": "https://localhost:8080/"
        },
        "id": "MipDmYwCZX_M",
        "outputId": "9dcca852-e15a-4061-bd1d-bd07a9812ac4"
      },
      "execution_count": 11,
      "outputs": [
        {
          "output_type": "stream",
          "name": "stdout",
          "text": [
            "[2, 3, 4]\n"
          ]
        }
      ]
    },
    {
      "cell_type": "markdown",
      "source": [
        "Qn.7"
      ],
      "metadata": {
        "id": "vpasj0QGZmuy"
      }
    },
    {
      "cell_type": "code",
      "source": [
        "def get_first_n(lst,n):\n",
        "  new_list=lst[:n]\n",
        "  return new_list\n",
        "\n",
        "print(get_first_n([1,2,3,4,5],3))"
      ],
      "metadata": {
        "colab": {
          "base_uri": "https://localhost:8080/"
        },
        "id": "8AjJlZK7ZlHd",
        "outputId": "b0337de1-7bb9-40ab-eb39-d88378cab039"
      },
      "execution_count": 12,
      "outputs": [
        {
          "output_type": "stream",
          "name": "stdout",
          "text": [
            "[1, 2, 3]\n"
          ]
        }
      ]
    },
    {
      "cell_type": "markdown",
      "source": [
        "Qn.8"
      ],
      "metadata": {
        "id": "WSBWHJavZrIC"
      }
    },
    {
      "cell_type": "code",
      "source": [
        "def get_last_n(lst,n):\n",
        "  new_list=lst[len(lst)-n:]\n",
        "  return new_list\n",
        "\n",
        "print(get_last_n([1,2,3,4,5],2))\n",
        ""
      ],
      "metadata": {
        "colab": {
          "base_uri": "https://localhost:8080/"
        },
        "id": "WV5Gee-wZqW9",
        "outputId": "c43bfee5-6d46-4a6f-8eb2-ba24b76261c8"
      },
      "execution_count": 13,
      "outputs": [
        {
          "output_type": "stream",
          "name": "stdout",
          "text": [
            "[4, 5]\n"
          ]
        }
      ]
    },
    {
      "cell_type": "markdown",
      "source": [
        "Qn.9"
      ],
      "metadata": {
        "id": "KDijU3QOZx0M"
      }
    },
    {
      "cell_type": "code",
      "source": [
        "def reverse_skip(lst):\n",
        "  new_list=lst[::-1]\n",
        "  new_list=new_list[1::2]\n",
        "  return new_list\n",
        "\n",
        "print(reverse_skip([1,2,3,4,5,6]))"
      ],
      "metadata": {
        "colab": {
          "base_uri": "https://localhost:8080/"
        },
        "id": "NyVZfVjoZwH4",
        "outputId": "d824c6fe-1152-4ce5-d472-9ea23ffab8b9"
      },
      "execution_count": 14,
      "outputs": [
        {
          "output_type": "stream",
          "name": "stdout",
          "text": [
            "[5, 3, 1]\n"
          ]
        }
      ]
    },
    {
      "cell_type": "markdown",
      "source": [
        "Qn.10"
      ],
      "metadata": {
        "id": "lm54P68aZ1ej"
      }
    },
    {
      "cell_type": "code",
      "source": [
        "def flatten(lst):\n",
        "  new_list=[]\n",
        "  for x in lst:\n",
        "    for y in x:\n",
        "      new_list.append(y)\n",
        "  return new_list\n",
        "\n",
        "print(flatten([[1,2,3],[4,5,6]]))"
      ],
      "metadata": {
        "colab": {
          "base_uri": "https://localhost:8080/"
        },
        "id": "skSuzICAZ0qZ",
        "outputId": "d3b8aff1-da93-47f0-d3cc-765fea50dbb9"
      },
      "execution_count": 15,
      "outputs": [
        {
          "output_type": "stream",
          "name": "stdout",
          "text": [
            "[1, 2, 3, 4, 5, 6]\n"
          ]
        }
      ]
    },
    {
      "cell_type": "markdown",
      "source": [
        "Qn.11"
      ],
      "metadata": {
        "id": "gwTYAEhBZ7ea"
      }
    },
    {
      "cell_type": "code",
      "source": [
        "def access_nested_element(lst,indices):\n",
        "  for index in indices:\n",
        "    lst=lst[index]\n",
        "  return lst\n",
        "\n",
        "print(access_nested_element([[1,2,3],[4,5,6],[7,8,9]],[1,2]))"
      ],
      "metadata": {
        "colab": {
          "base_uri": "https://localhost:8080/"
        },
        "id": "AsVm6pCoZ4ec",
        "outputId": "2669f43f-acb0-40c8-b4b1-18c36f78def3"
      },
      "execution_count": 16,
      "outputs": [
        {
          "output_type": "stream",
          "name": "stdout",
          "text": [
            "6\n"
          ]
        }
      ]
    },
    {
      "cell_type": "markdown",
      "source": [
        "Qn.12"
      ],
      "metadata": {
        "id": "MSLU7WSQaBit"
      }
    },
    {
      "cell_type": "code",
      "source": [
        "def sum_nested(lst):\n",
        "  sum=0\n",
        "  for x in lst:\n",
        "    if(type(x)==list):\n",
        "      for y in x:\n",
        "        if(type(y)==list):\n",
        "          for z in y:\n",
        "            sum+=z\n",
        "        else:\n",
        "          sum+=y\n",
        "    else:\n",
        "      sum+=x\n",
        "  return sum\n",
        "\n",
        "print(sum_nested([[1, 2], [3, [4, 5]], 6]))\n"
      ],
      "metadata": {
        "colab": {
          "base_uri": "https://localhost:8080/"
        },
        "id": "miE6yFsaaEOa",
        "outputId": "3a11f7b0-e125-4b8c-f163-005007364c75"
      },
      "execution_count": 1,
      "outputs": [
        {
          "output_type": "stream",
          "name": "stdout",
          "text": [
            "21\n"
          ]
        }
      ]
    },
    {
      "cell_type": "code",
      "source": [],
      "metadata": {
        "id": "soFxmoTeay_J"
      },
      "execution_count": null,
      "outputs": []
    },
    {
      "cell_type": "markdown",
      "source": [
        "Qn.13"
      ],
      "metadata": {
        "id": "gJ8ztgyBa7qz"
      }
    },
    {
      "cell_type": "code",
      "source": [
        "\n",
        "def remove_element(lst,elem):\n",
        "  for x in lst:\n",
        "    for y in x:\n",
        "      if(y==elem):\n",
        "        x.remove(y)\n",
        "  return lst\n",
        "\n",
        "print(remove_element([[1, 2], [3, 2], [4, 5]],2))"
      ],
      "metadata": {
        "colab": {
          "base_uri": "https://localhost:8080/"
        },
        "id": "-kUHn9hka9Ms",
        "outputId": "37dd06de-46da-4ab7-e2e9-c5cea284b2e8"
      },
      "execution_count": 2,
      "outputs": [
        {
          "output_type": "stream",
          "name": "stdout",
          "text": [
            "[[1], [3], [4, 5]]\n"
          ]
        }
      ]
    },
    {
      "cell_type": "code",
      "source": [],
      "metadata": {
        "id": "4FeJP31fa_FS"
      },
      "execution_count": null,
      "outputs": []
    },
    {
      "cell_type": "markdown",
      "source": [
        "Qn.14"
      ],
      "metadata": {
        "id": "SYgY0nKjbABc"
      }
    },
    {
      "cell_type": "code",
      "source": [
        "def find_max(lst):\n",
        "  max=0\n",
        "  for x in lst:\n",
        "    if(type(x)==list):\n",
        "      for y in x:\n",
        "        if(type(y)==list):\n",
        "          for z in y:\n",
        "            if(z>max):\n",
        "              max=z\n",
        "        else:\n",
        "          if(y>max):\n",
        "            max=y\n",
        "    else:\n",
        "      if(x>max):\n",
        "        max=x\n",
        "  return max\n",
        "\n",
        "print(find_max([[1, 2], [3, [4, 5]], 6]))"
      ],
      "metadata": {
        "colab": {
          "base_uri": "https://localhost:8080/"
        },
        "id": "HaZqnDGGbBUx",
        "outputId": "4102f96f-87c2-48d9-8ff9-142ee5cfd2fd"
      },
      "execution_count": 3,
      "outputs": [
        {
          "output_type": "stream",
          "name": "stdout",
          "text": [
            "6\n"
          ]
        }
      ]
    },
    {
      "cell_type": "code",
      "source": [],
      "metadata": {
        "id": "x2Vst1ISbEp3"
      },
      "execution_count": null,
      "outputs": []
    },
    {
      "cell_type": "markdown",
      "source": [
        "Qn.15"
      ],
      "metadata": {
        "id": "qVen9B2ZbFft"
      }
    },
    {
      "cell_type": "code",
      "source": [
        "def count_occurences(lst,elem):\n",
        "  count=0\n",
        "  for x in lst:\n",
        "    for y in x:\n",
        "      if(y==elem):\n",
        "        count+=1\n",
        "  return count\n",
        "\n",
        "print(count_occurences([[1, 2], [3, 2], [4, 2]],2))"
      ],
      "metadata": {
        "colab": {
          "base_uri": "https://localhost:8080/"
        },
        "id": "EOnSk6d5bHDM",
        "outputId": "d93eeaf7-be6f-4e37-d49c-3c25f8305918"
      },
      "execution_count": 4,
      "outputs": [
        {
          "output_type": "stream",
          "name": "stdout",
          "text": [
            "3\n"
          ]
        }
      ]
    },
    {
      "cell_type": "markdown",
      "source": [
        "Qn.16"
      ],
      "metadata": {
        "id": "0hpAj6eKbJnP"
      }
    },
    {
      "cell_type": "code",
      "source": [
        "def deep_flatten(lst):\n",
        "  new_list=[]\n",
        "  for x in lst:\n",
        "    if(type(x)==list):\n",
        "      for y in x:\n",
        "        if(type(y)==list):\n",
        "          for z in y:\n",
        "            new_list.append(z)\n",
        "        else:\n",
        "          new_list.append(y)\n",
        "    else:\n",
        "      new_list.append(x)\n",
        "\n",
        "  return new_list\n",
        "\n",
        "print(deep_flatten([[1, 2], [3, [4, 5]], 6]))"
      ],
      "metadata": {
        "colab": {
          "base_uri": "https://localhost:8080/"
        },
        "id": "zJNxG8JObJAB",
        "outputId": "c9b7bd75-b6ea-4559-b57a-a9237b39ee88"
      },
      "execution_count": 5,
      "outputs": [
        {
          "output_type": "stream",
          "name": "stdout",
          "text": [
            "[1, 2, 3, 4, 5, 6]\n"
          ]
        }
      ]
    },
    {
      "cell_type": "markdown",
      "source": [
        "Qn.17"
      ],
      "metadata": {
        "id": "DEymiYxvbNKV"
      }
    },
    {
      "cell_type": "code",
      "source": [
        "def average_nested(lst):\n",
        "  avg=0\n",
        "  sum=0\n",
        "  length=0\n",
        "  for x in lst:\n",
        "    for y in x:\n",
        "      sum+=y\n",
        "      length+=1\n",
        "  avg=sum/length\n",
        "  return avg\n",
        "\n",
        "print(average_nested([[1, 2], [3, 4], [5, 6]]))"
      ],
      "metadata": {
        "colab": {
          "base_uri": "https://localhost:8080/"
        },
        "id": "Lp6-K9QxbOgi",
        "outputId": "34fea5bf-8a4a-4a76-8133-88c4d2139ed2"
      },
      "execution_count": 6,
      "outputs": [
        {
          "output_type": "stream",
          "name": "stdout",
          "text": [
            "3.5\n"
          ]
        }
      ]
    },
    {
      "cell_type": "markdown",
      "source": [
        "Qn.18"
      ],
      "metadata": {
        "id": "xCm1VvUFbRmL"
      }
    },
    {
      "cell_type": "code",
      "source": [
        "import numpy as np\n",
        "empty_arr=np.empty(2)\n",
        "one_arr=np.ones((4,2))\n",
        "full_arr=np.full((2,3),5)\n",
        "zerolikearr=np.zeros_like(one_arr)\n",
        "onelikearr=np.ones_like(one_arr)\n",
        "lstarr=np.array([1,2,3,4])\n",
        "print(empty_arr)\n",
        "print(one_arr)\n",
        "print(full_arr)\n",
        "print(zerolikearr)\n",
        "print(onelikearr)\n",
        "print(lstarr)"
      ],
      "metadata": {
        "colab": {
          "base_uri": "https://localhost:8080/"
        },
        "id": "NNrH8hhHbMiv",
        "outputId": "c36b67da-0055-43d5-aeaf-c4bb643b1c9e"
      },
      "execution_count": 8,
      "outputs": [
        {
          "output_type": "stream",
          "name": "stdout",
          "text": [
            "[-5.73021895e-300  6.59852825e-310]\n",
            "[[1. 1.]\n",
            " [1. 1.]\n",
            " [1. 1.]\n",
            " [1. 1.]]\n",
            "[[5 5 5]\n",
            " [5 5 5]]\n",
            "[[0. 0.]\n",
            " [0. 0.]\n",
            " [0. 0.]\n",
            " [0. 0.]]\n",
            "[[1. 1.]\n",
            " [1. 1.]\n",
            " [1. 1.]\n",
            " [1. 1.]]\n",
            "[1 2 3 4]\n"
          ]
        }
      ]
    },
    {
      "cell_type": "markdown",
      "source": [
        "Qn.19"
      ],
      "metadata": {
        "id": "UkXF6jOjbZcR"
      }
    },
    {
      "cell_type": "code",
      "source": [
        "range_arr=np.arange(10,49)\n",
        "matrix=np.arange(0,9).reshape((3,3))\n",
        "eye_matrix=np.eye(3)\n",
        "rand=np.random.random((3,3))\n",
        "mean=rand.mean()\n",
        "rand1=np.random.random((10,10))\n",
        "max=rand1.max()\n",
        "min=rand1.min()\n",
        "zeroarr=np.zeros((10,10))\n",
        "zeroarr[6]=1\n",
        "arr=[1,2,0,0,4,0]\n",
        "reversearr=arr[::-1]\n",
        "arrborder=np.zeros((3,3))\n",
        "arrborder[0,:]=1\n",
        "arrborder[:,0]=1\n",
        "arrborder[:,-1]=1\n",
        "arrborder[-1,:]=1\n",
        "checkerboard=np.zeros((8,8))\n",
        "checkerboard[1::2,::2]=1\n",
        "checkerboard[::2,1::2]=1\n",
        "print(range_arr)\n",
        "print(matrix)\n",
        "print(eye_matrix)\n",
        "print(rand)\n",
        "print(mean)\n",
        "print(rand1)\n",
        "print(max)\n",
        "print(min)\n",
        "print(zeroarr)\n",
        "print(reversearr)\n",
        "print(arrborder)\n",
        "print(checkerboard)"
      ],
      "metadata": {
        "colab": {
          "base_uri": "https://localhost:8080/"
        },
        "id": "YQQzT5FtbUns",
        "outputId": "050fcc0e-3a3e-4118-e0b0-9e7492f967d7"
      },
      "execution_count": 9,
      "outputs": [
        {
          "output_type": "stream",
          "name": "stdout",
          "text": [
            "[10 11 12 13 14 15 16 17 18 19 20 21 22 23 24 25 26 27 28 29 30 31 32 33\n",
            " 34 35 36 37 38 39 40 41 42 43 44 45 46 47 48]\n",
            "[[0 1 2]\n",
            " [3 4 5]\n",
            " [6 7 8]]\n",
            "[[1. 0. 0.]\n",
            " [0. 1. 0.]\n",
            " [0. 0. 1.]]\n",
            "[[0.92208704 0.72400069 0.24188711]\n",
            " [0.61798263 0.23240855 0.63474241]\n",
            " [0.6539415  0.0533691  0.88421051]]\n",
            "0.5516255046171319\n",
            "[[0.8276336  0.98137433 0.62639231 0.13762602 0.83840243 0.95171976\n",
            "  0.64701055 0.7967275  0.37996837 0.39709796]\n",
            " [0.45615032 0.01133147 0.06816827 0.20774064 0.40742308 0.3109227\n",
            "  0.77841528 0.24848097 0.9991828  0.89210663]\n",
            " [0.80262097 0.92894803 0.09792336 0.17562535 0.56369534 0.76429137\n",
            "  0.11378387 0.37780662 0.64495464 0.77369421]\n",
            " [0.8691743  0.32213902 0.55333143 0.90078457 0.1271645  0.41821254\n",
            "  0.29802005 0.99977835 0.74440575 0.28622227]\n",
            " [0.64450119 0.31088975 0.04207397 0.99404111 0.51497845 0.13402066\n",
            "  0.46466857 0.70988111 0.15304633 0.98208853]\n",
            " [0.91507966 0.10656338 0.52578111 0.31268721 0.88863101 0.74701574\n",
            "  0.97373956 0.96087585 0.98506742 0.05349035]\n",
            " [0.86953228 0.98368743 0.0815711  0.62515064 0.06445339 0.71922206\n",
            "  0.57495603 0.02480266 0.92391972 0.91317283]\n",
            " [0.53052999 0.20104619 0.9483674  0.14211618 0.33344672 0.23589105\n",
            "  0.97128444 0.06872478 0.0174411  0.72585796]\n",
            " [0.92008394 0.75846794 0.48547112 0.29610998 0.7345133  0.12510654\n",
            "  0.63742606 0.00973331 0.19696601 0.71525433]\n",
            " [0.39991445 0.28568866 0.13232699 0.59627244 0.05160847 0.65375235\n",
            "  0.31327393 0.61311805 0.04631172 0.46209086]]\n",
            "0.9997783467874465\n",
            "0.009733308407170238\n",
            "[[0. 0. 0. 0. 0. 0. 0. 0. 0. 0.]\n",
            " [0. 0. 0. 0. 0. 0. 0. 0. 0. 0.]\n",
            " [0. 0. 0. 0. 0. 0. 0. 0. 0. 0.]\n",
            " [0. 0. 0. 0. 0. 0. 0. 0. 0. 0.]\n",
            " [0. 0. 0. 0. 0. 0. 0. 0. 0. 0.]\n",
            " [0. 0. 0. 0. 0. 0. 0. 0. 0. 0.]\n",
            " [1. 1. 1. 1. 1. 1. 1. 1. 1. 1.]\n",
            " [0. 0. 0. 0. 0. 0. 0. 0. 0. 0.]\n",
            " [0. 0. 0. 0. 0. 0. 0. 0. 0. 0.]\n",
            " [0. 0. 0. 0. 0. 0. 0. 0. 0. 0.]]\n",
            "[0, 4, 0, 0, 2, 1]\n",
            "[[1. 1. 1.]\n",
            " [1. 0. 1.]\n",
            " [1. 1. 1.]]\n",
            "[[0. 1. 0. 1. 0. 1. 0. 1.]\n",
            " [1. 0. 1. 0. 1. 0. 1. 0.]\n",
            " [0. 1. 0. 1. 0. 1. 0. 1.]\n",
            " [1. 0. 1. 0. 1. 0. 1. 0.]\n",
            " [0. 1. 0. 1. 0. 1. 0. 1.]\n",
            " [1. 0. 1. 0. 1. 0. 1. 0.]\n",
            " [0. 1. 0. 1. 0. 1. 0. 1.]\n",
            " [1. 0. 1. 0. 1. 0. 1. 0.]]\n"
          ]
        }
      ]
    },
    {
      "cell_type": "markdown",
      "source": [
        "Qn.20"
      ],
      "metadata": {
        "id": "3GJ03Hw-bf4Q"
      }
    },
    {
      "cell_type": "code",
      "source": [
        "x = np.array([[1,2],[3,5]])\n",
        "y = np.array([[5,6],[7,8]])\n",
        "v = np.array([9,10])\n",
        "w = np.array([11,12])\n",
        "sum=np.add(x,y)\n",
        "sub=np.subtract(x,y)\n",
        "multiply=np.multiply(x,y)\n",
        "square=np.square(x)\n",
        "vdotw=np.dot(v,w)\n",
        "xdotv=np.dot(x,v)\n",
        "xdoty=np.dot(x,y)\n",
        "rowconcat=np.concatenate((x,y),axis=0)\n",
        "columnconcat=np.concatenate((x,y),axis=1)\n",
        "print(sum)\n",
        "print(sub)\n",
        "print(multiply)\n",
        "print(square)\n",
        "print(vdotw)\n",
        "print(xdotv)\n",
        "print(xdoty)\n",
        "print(rowconcat)\n",
        "print(columnconcat)"
      ],
      "metadata": {
        "colab": {
          "base_uri": "https://localhost:8080/"
        },
        "id": "lRTulEx0bcy7",
        "outputId": "e3fed56a-236e-437c-acc1-8cf1114db6d2"
      },
      "execution_count": 10,
      "outputs": [
        {
          "output_type": "stream",
          "name": "stdout",
          "text": [
            "[[ 6  8]\n",
            " [10 13]]\n",
            "[[-4 -4]\n",
            " [-4 -3]]\n",
            "[[ 5 12]\n",
            " [21 40]]\n",
            "[[ 1  4]\n",
            " [ 9 25]]\n",
            "219\n",
            "[29 77]\n",
            "[[19 22]\n",
            " [50 58]]\n",
            "[[1 2]\n",
            " [3 5]\n",
            " [5 6]\n",
            " [7 8]]\n",
            "[[1 2 5 6]\n",
            " [3 5 7 8]]\n"
          ]
        }
      ]
    },
    {
      "cell_type": "code",
      "source": [],
      "metadata": {
        "id": "W8ky3talbjCZ"
      },
      "execution_count": null,
      "outputs": []
    },
    {
      "cell_type": "markdown",
      "source": [
        "Qn.21"
      ],
      "metadata": {
        "id": "MIHk5e94bjsi"
      }
    },
    {
      "cell_type": "code",
      "source": [
        "A = np.array([[3,4],[7,8]])\n",
        "B = np.array([[5,3],[2,1]])\n",
        "ainverse=np.linalg.inv(A)\n",
        "eye=A@ainverse\n",
        "AB=np.matmul(A,B)\n",
        "BA=np.matmul(B,A)\n",
        "At=np.transpose(A)\n",
        "Bt=np.transpose(B)\n",
        "ABt=np.transpose(AB)\n",
        "BtAt=np.matmul(Bt,At)\n",
        "print(eye)\n",
        "print(AB)\n",
        "print(BA)\n",
        "print(ABt)\n",
        "print(BtAt)"
      ],
      "metadata": {
        "colab": {
          "base_uri": "https://localhost:8080/"
        },
        "id": "ZZZVq40Mbk5X",
        "outputId": "62e00e3d-e507-427e-ffe8-ca24f6676898"
      },
      "execution_count": 11,
      "outputs": [
        {
          "output_type": "stream",
          "name": "stdout",
          "text": [
            "[[1.00000000e+00 0.00000000e+00]\n",
            " [1.77635684e-15 1.00000000e+00]]\n",
            "[[23 13]\n",
            " [51 29]]\n",
            "[[36 44]\n",
            " [13 16]]\n",
            "[[23 51]\n",
            " [13 29]]\n",
            "[[23 51]\n",
            " [13 29]]\n"
          ]
        }
      ]
    }
  ]
}